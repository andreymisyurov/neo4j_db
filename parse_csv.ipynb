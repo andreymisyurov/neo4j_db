{
 "cells": [
  {
   "cell_type": "code",
   "execution_count": 2,
   "id": "d3b5d07a",
   "metadata": {},
   "outputs": [],
   "source": [
    "import pandas\n",
    "from neo4j import GraphDatabase\n",
    "\n",
    "path = \"data_test.csv\"\n",
    "data = pandas.read_csv(path, sep=\";\")\n",
    "\n",
    "uri = \"bolt://localhost:7687\"\n",
    "driver = GraphDatabase.driver(uri, auth=(\"neo4j\", \"11111111\"))\n",
    "\n",
    "# Создаем узлы \"event\"\n",
    "with driver.session() as session:\n",
    "    for row in data.itertuples(index=False):\n",
    "        event_id = row[0]\n",
    "        session.run(\"MERGE (e:Event {id_sobytiya: $event_id})\", event_id=event_id)\n",
    "\n",
    "# Создаем узлы \"participant\" и связи \"PARTICIPATED_IN\"\n",
    "with driver.session() as session:\n",
    "    for row in data.itertuples(index=False):\n",
    "        event_id = row[0]\n",
    "        participant_1 = row[1]\n",
    "        participant_2 = row[2]\n",
    "        session.run(\"\"\"\n",
    "            MERGE (p1:Participant {fio: $part_1})\n",
    "            MERGE (p2:Participant {fio: $part_2})\n",
    "            MERGE (p1)-[:PARTICIPATED_IN {event_id: $e_id}]->(e:Event {id_sobytiya: $e_id})\n",
    "            MERGE (p2)-[:PARTICIPATED_IN {event_id: $e_id}]->(e)\n",
    "        \"\"\", part_1=participant_1, part_2=participant_2, e_id=event_id)"
   ]
  },
  {
   "cell_type": "code",
   "execution_count": null,
   "id": "5a022050",
   "metadata": {},
   "outputs": [],
   "source": []
  }
 ],
 "metadata": {
  "kernelspec": {
   "display_name": "Python 3 (ipykernel)",
   "language": "python",
   "name": "python3"
  },
  "language_info": {
   "codemirror_mode": {
    "name": "ipython",
    "version": 3
   },
   "file_extension": ".py",
   "mimetype": "text/x-python",
   "name": "python",
   "nbconvert_exporter": "python",
   "pygments_lexer": "ipython3",
   "version": "3.10.10"
  }
 },
 "nbformat": 4,
 "nbformat_minor": 5
}
